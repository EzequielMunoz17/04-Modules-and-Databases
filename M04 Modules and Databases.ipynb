{
 "cells": [
  {
   "cell_type": "code",
   "execution_count": 9,
   "id": "2e2488e3",
   "metadata": {},
   "outputs": [],
   "source": [
    "11.1-11.2\n",
    "def hours():\n",
    "    print('Open 9-5 daily')\n",
    "    import zoo\n",
    "    zoo.hours()\n",
    "    import zoo as menagerie\n",
    "    menagerie.hours()"
   ]
  },
  {
   "cell_type": "code",
   "execution_count": null,
   "id": "40d67c9f",
   "metadata": {},
   "outputs": [],
   "source": [
    "16.8\n",
    "from sqlalchemy import create_engine, Table, Column, String\n",
    "from sqlalchemy.orm import sessionmaker\n",
    "from sqlalchemy.ext.declarative import declarative_base\n",
    "\n",
    "# Connect to the database\n",
    "engine = create_engine('sqlite:///books.db')\n",
    "Session = sessionmaker(bind=engine)\n",
    "session = Session()\n",
    "\n",
    "# Define the Book table using declarative_base\n",
    "Base = declarative_base()\n",
    "\n",
    "class Book(Base):\n",
    "    __tablename__ = 'book'\n",
    "    id = Column(String, primary_key=True)\n",
    "    title = Column(String)\n",
    "    author = Column(String)\n",
    "    year = Column(String)\n",
    "\n",
    "# Query the title column in alphabetical order\n",
    "query = session.query(Book.title).order_by(Book.title)\n",
    "\n",
    "# Print the titles\n",
    "for title in query:\n",
    "    print(title[0])"
   ]
  }
 ],
 "metadata": {
  "kernelspec": {
   "display_name": "Python 3 (ipykernel)",
   "language": "python",
   "name": "python3"
  },
  "language_info": {
   "codemirror_mode": {
    "name": "ipython",
    "version": 3
   },
   "file_extension": ".py",
   "mimetype": "text/x-python",
   "name": "python",
   "nbconvert_exporter": "python",
   "pygments_lexer": "ipython3",
   "version": "3.10.9"
  }
 },
 "nbformat": 4,
 "nbformat_minor": 5
}
